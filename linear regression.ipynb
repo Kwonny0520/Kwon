{
 "cells": [
  {
   "cell_type": "code",
   "execution_count": 322,
   "metadata": {},
   "outputs": [],
   "source": [
    "import pandas as pd\n",
    "from pandas import Series, DataFrame\n",
    "import numpy as np\n",
    "import random \n",
    "import matplotlib.pyplot as plt\n",
    "data = pd.read_csv('weight-height.csv') "
   ]
  },
  {
   "cell_type": "markdown",
   "metadata": {},
   "source": [
    "Link of the data :https://www.kaggle.com/mustafaali96/weight-height"
   ]
  },
  {
   "cell_type": "markdown",
   "metadata": {},
   "source": [
    "# Made by Kwon (kakaotalk id: 'kwon030520')"
   ]
  },
  {
   "cell_type": "code",
   "execution_count": 320,
   "metadata": {},
   "outputs": [
    {
     "data": {
      "text/html": [
       "<div>\n",
       "<style scoped>\n",
       "    .dataframe tbody tr th:only-of-type {\n",
       "        vertical-align: middle;\n",
       "    }\n",
       "\n",
       "    .dataframe tbody tr th {\n",
       "        vertical-align: top;\n",
       "    }\n",
       "\n",
       "    .dataframe thead th {\n",
       "        text-align: right;\n",
       "    }\n",
       "</style>\n",
       "<table border=\"1\" class=\"dataframe\">\n",
       "  <thead>\n",
       "    <tr style=\"text-align: right;\">\n",
       "      <th></th>\n",
       "      <th>Gender</th>\n",
       "      <th>Height</th>\n",
       "      <th>Weight</th>\n",
       "    </tr>\n",
       "  </thead>\n",
       "  <tbody>\n",
       "    <tr>\n",
       "      <th>0</th>\n",
       "      <td>Male</td>\n",
       "      <td>73.847017</td>\n",
       "      <td>241.893563</td>\n",
       "    </tr>\n",
       "    <tr>\n",
       "      <th>1</th>\n",
       "      <td>Male</td>\n",
       "      <td>68.781904</td>\n",
       "      <td>162.310473</td>\n",
       "    </tr>\n",
       "    <tr>\n",
       "      <th>2</th>\n",
       "      <td>Male</td>\n",
       "      <td>74.110105</td>\n",
       "      <td>212.740856</td>\n",
       "    </tr>\n",
       "    <tr>\n",
       "      <th>3</th>\n",
       "      <td>Male</td>\n",
       "      <td>71.730978</td>\n",
       "      <td>220.042470</td>\n",
       "    </tr>\n",
       "    <tr>\n",
       "      <th>4</th>\n",
       "      <td>Male</td>\n",
       "      <td>69.881796</td>\n",
       "      <td>206.349801</td>\n",
       "    </tr>\n",
       "  </tbody>\n",
       "</table>\n",
       "</div>"
      ],
      "text/plain": [
       "  Gender     Height      Weight\n",
       "0   Male  73.847017  241.893563\n",
       "1   Male  68.781904  162.310473\n",
       "2   Male  74.110105  212.740856\n",
       "3   Male  71.730978  220.042470\n",
       "4   Male  69.881796  206.349801"
      ]
     },
     "execution_count": 320,
     "metadata": {},
     "output_type": "execute_result"
    }
   ],
   "source": [
    "data.head()"
   ]
  },
  {
   "cell_type": "code",
   "execution_count": 321,
   "metadata": {},
   "outputs": [
    {
     "data": {
      "text/html": [
       "<div>\n",
       "<style scoped>\n",
       "    .dataframe tbody tr th:only-of-type {\n",
       "        vertical-align: middle;\n",
       "    }\n",
       "\n",
       "    .dataframe tbody tr th {\n",
       "        vertical-align: top;\n",
       "    }\n",
       "\n",
       "    .dataframe thead th {\n",
       "        text-align: right;\n",
       "    }\n",
       "</style>\n",
       "<table border=\"1\" class=\"dataframe\">\n",
       "  <thead>\n",
       "    <tr style=\"text-align: right;\">\n",
       "      <th></th>\n",
       "      <th>Gender</th>\n",
       "      <th>Height</th>\n",
       "      <th>Weight</th>\n",
       "    </tr>\n",
       "  </thead>\n",
       "  <tbody>\n",
       "    <tr>\n",
       "      <th>9995</th>\n",
       "      <td>Female</td>\n",
       "      <td>66.172652</td>\n",
       "      <td>136.777454</td>\n",
       "    </tr>\n",
       "    <tr>\n",
       "      <th>9996</th>\n",
       "      <td>Female</td>\n",
       "      <td>67.067155</td>\n",
       "      <td>170.867906</td>\n",
       "    </tr>\n",
       "    <tr>\n",
       "      <th>9997</th>\n",
       "      <td>Female</td>\n",
       "      <td>63.867992</td>\n",
       "      <td>128.475319</td>\n",
       "    </tr>\n",
       "    <tr>\n",
       "      <th>9998</th>\n",
       "      <td>Female</td>\n",
       "      <td>69.034243</td>\n",
       "      <td>163.852461</td>\n",
       "    </tr>\n",
       "    <tr>\n",
       "      <th>9999</th>\n",
       "      <td>Female</td>\n",
       "      <td>61.944246</td>\n",
       "      <td>113.649103</td>\n",
       "    </tr>\n",
       "  </tbody>\n",
       "</table>\n",
       "</div>"
      ],
      "text/plain": [
       "      Gender     Height      Weight\n",
       "9995  Female  66.172652  136.777454\n",
       "9996  Female  67.067155  170.867906\n",
       "9997  Female  63.867992  128.475319\n",
       "9998  Female  69.034243  163.852461\n",
       "9999  Female  61.944246  113.649103"
      ]
     },
     "execution_count": 321,
     "metadata": {},
     "output_type": "execute_result"
    }
   ],
   "source": [
    "data.tail()"
   ]
  },
  {
   "cell_type": "code",
   "execution_count": 318,
   "metadata": {},
   "outputs": [],
   "source": [
    "#This code is feasible only when there is two coefficient\n",
    "def linear_regression(data):\n",
    "    \n",
    "    df_male = data.loc[data['Gender'] ==\"Male\"]\n",
    "    df_female = data.loc[data['Gender'] == 'Female']\n",
    "    \n",
    "    df_male = df_male.reset_index(drop =True)\n",
    "    df_female = df_female.reset_index(drop =True)\n",
    "    #getting training datasets\n",
    "    \n",
    "    Y_m, X_m = df_male.shape\n",
    "    Y_f, X_f = df_female.shape\n",
    "\n",
    "    random_male =  random.sample(range(Y_m), 100)\n",
    "    random_female = random.sample(range(Y_f), 100)\n",
    "    \n",
    "    \n",
    "    for i in range (len(random_male)):\n",
    "        if (i == 0):\n",
    "            df_train_male = df_male.iloc[random_male[i]:random_male[i]+1]     \n",
    "        elif (i != 0):\n",
    "            selected = df_male.iloc[random_male[i]:random_male[i]+1]\n",
    "            df_train_male = pd.concat([df_train_male, selected])\n",
    "            \n",
    "    for i in range (len(random_female)):\n",
    "        if (i == 0):\n",
    "            df_train_female = df_female.iloc[random_female[i]: random_female[i]+1]\n",
    "        elif (i != 0):\n",
    "            selected = df_female.iloc[random_female[i]: random_female[i]+1]\n",
    "            df_train_female = pd.concat([df_train_female, selected])\n",
    "    \n",
    "    #Reset the index\n",
    "    df_train_male = df_train_male.reset_index(drop = True)\n",
    "    df_train_female = df_train_female.reset_index(drop = True)\n",
    "    \n",
    "    #Math stuff lets say that height is x and weight is y\n",
    "    \n",
    "    #sum of X\n",
    "    total_Xm = 0\n",
    "    for i in range (len(df_train_male)):\n",
    "        total_Xm = total_Xm + df_train_male['Height'][i]\n",
    "        \n",
    "    total_Xf = 0 \n",
    "    for i in range (len(df_train_female)):\n",
    "        total_Xf = total_Xf + df_train_female['Height'][i]\n",
    "    \n",
    "    #sum of XY\n",
    "    total_XYm = 0\n",
    "    for i in range (len(df_train_male)):\n",
    "        total_XYm = total_XYm + (df_train_male['Height'][i] * df_train_male['Weight'][i]) \n",
    "    \n",
    "    total_XYf = 0 \n",
    "    for i in range (len(df_train_female)):\n",
    "        total_XYf = total_XYf + (df_train_female['Height'][i]) * df_train_female['Weight'][i]\n",
    "    \n",
    "    #Sum of Y\n",
    "    total_Ym = 0 \n",
    "    for i in range (len(df_train_male)):\n",
    "        total_Ym = total_Ym + (df_train_male['Weight'][i])\n",
    "    \n",
    "    total_Yf = 0 \n",
    "    for i in range (len(df_train_female)):\n",
    "        total_Yf = total_Yf + (df_train_female['Weight'][i])\n",
    "        \n",
    "    #Sum of X^2\n",
    "    total_X2m = 0\n",
    "    for i in range (len(df_train_male)):\n",
    "        total_X2m = total_X2m + (df_train_male['Height'][i] * df_train_male['Height'][i])\n",
    "    \n",
    "    total_X2f = 0 \n",
    "    for i in range (len(df_train_female)):\n",
    "        total_X2f = total_X2f + ((df_train_female['Height'][i])**2)\n",
    "    \n",
    "    #Sum of Y^2\n",
    "    total_Y2m = 0 \n",
    "    for i in range (len(df_train_male)):\n",
    "        total_Y2m = total_Y2m + (df_train_male ['Weight'][i]* df_train_male['Weight'][i])\n",
    "    \n",
    "    total_Y2f = 0\n",
    "    for i in range (len(df_train_female)):\n",
    "        total_Y2f = total_Y2f + ((df_train_female['Weight'][i])**2)\n",
    "        \n",
    "    #Finding m (the slope)\n",
    "    Mm = (((len(df_train_male) * total_XYm) - (total_Xm * total_Ym)))/ ( (len(df_train_male) * total_X2m) - (total_Xm * total_Xm)) \n",
    "\n",
    "    Mf = (((len(df_train_female) * total_XYf) - (total_Xf * total_Yf)))/ ( (len(df_train_female) * total_X2f) - (total_Xf * total_Xf)) \n",
    "\n",
    "    #Finding b (the y intercept)\n",
    "    \n",
    "    Bm = (total_Ym - (Mm * total_Xm))/ len(df_train_male)\n",
    "\n",
    "    Bf = (total_Yf - (Mf * total_Xf))/ len(df_train_female)\n",
    "    \n",
    "    #Finding R \n",
    "    Rm = ( (len(df_train_male) * total_XYm) - (total_Xm * total_Ym) )\n",
    "    sm = ((len(df_train_male) * total_X2m) - (total_Xm * total_Xm)) * ((len(df_train_male) * total_Y2m) - (total_Ym * total_Ym)) \n",
    "    Rm = Rm/ (sm**0.5)\n",
    "    \n",
    "    Rf = ( (len(df_train_female) * total_XYf) - (total_Xf * total_Yf) )\n",
    "    sf = ((len(df_train_female) * total_X2f) - (total_Xf * total_Xf)) * ((len(df_train_female) * total_Y2f) - (total_Yf * total_Yf)) \n",
    "    Rf = Rf/ (sf**0.5)\n",
    "\n",
    "    plt.scatter(df_train_male['Height'], df_train_male['Weight'], label = 'stars', color = 'blue', marker= '*', s=30)\n",
    "    plt.title('Weight vs Height / male')\n",
    "    plt.xlabel('Height')\n",
    "    plt.ylabel('Weight')\n",
    "    plt.show()\n",
    "    \n",
    "    plt.scatter(df_train_female['Height'], df_train_female['Weight'], label = 'stars', color = 'blue', marker= '*', s=30)\n",
    "    plt.title('Weight vs Height / female')\n",
    "    plt.xlabel('Height')\n",
    "    plt.ylabel('Weight')\n",
    "    plt.show()\n",
    "    #Checking the accuracy\n",
    "    \n",
    "    count = 0\n",
    "    for i in range (len(df_male)):\n",
    "        value = Mm*df_male['Height'][i]+Bm\n",
    "        if (value > df_male['Weight'][i] * 0.90 and value <  df_male['Weight'][i] * 1.10):\n",
    "            count = count + 1\n",
    "    print(count/ (len(df_male)))\n",
    "    \n",
    "    count = 0\n",
    "    for i in range (len(df_female)):\n",
    "        value = Mf*df_female['Height'][i]+Bf\n",
    "        if (value > df_female['Weight'][i] * 0.90 and value <  df_female['Weight'][i] * 1.10):\n",
    "            count = count + 1\n",
    "    return (count/ (len(df_female)))"
   ]
  },
  {
   "cell_type": "code",
   "execution_count": 319,
   "metadata": {},
   "outputs": [
    {
     "data": {
      "image/png": "[encoded data removed]",
      "text/plain": [
       "<Figure size 432x288 with 1 Axes>"
      ]
     },
     "metadata": {
      "needs_background": "light"
     },
     "output_type": "display_data"
    },
    {
     "data": {
      "image/png": "[encoded data removed]",
      "text/plain": [
       "<Figure size 432x288 with 1 Axes>"
      ]
     },
     "metadata": {
      "needs_background": "light"
     },
     "output_type": "display_data"
    },
    {
     "name": "stdout",
     "output_type": "stream",
     "text": [
      "0.9354\n"
     ]
    },
    {
     "data": {
      "text/plain": [
       "0.8198"
      ]
     },
     "execution_count": 319,
     "metadata": {},
     "output_type": "execute_result"
    }
   ],
   "source": [
    "linear_regression(data)"
   ]
  },
  {
   "cell_type": "code",
   "execution_count": null,
   "metadata": {},
   "outputs": [],
   "source": []
  }
 ],
 "metadata": {
  "kernelspec": {
   "display_name": "Python 3",
   "language": "python",
   "name": "python3"
  },
  "language_info": {
   "codemirror_mode": {
    "name": "ipython",
    "version": 3
   },
   "file_extension": ".py",
   "mimetype": "text/x-python",
   "name": "python",
   "nbconvert_exporter": "python",
   "pygments_lexer": "ipython3",
   "version": "3.8.5"
  },
  "widgets": {
   "application/vnd.jupyter.widget-state+json": {
    "state": {},
    "version_major": 2,
    "version_minor": 0
   }
  }
 },
 "nbformat": 4,
 "nbformat_minor": 4
}
